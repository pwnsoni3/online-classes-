{
 "cells": [
  {
   "cell_type": "code",
   "execution_count": 1,
   "id": "7418f791",
   "metadata": {},
   "outputs": [
    {
     "ename": "SyntaxError",
     "evalue": "invalid syntax (Temp/ipykernel_2476/3430263738.py, line 2)",
     "output_type": "error",
     "traceback": [
      "\u001b[1;36m  File \u001b[1;32m\"C:\\Users\\DELL\\AppData\\Local\\Temp/ipykernel_2476/3430263738.py\"\u001b[1;36m, line \u001b[1;32m2\u001b[0m\n\u001b[1;33m    if a==10\u001b[0m\n\u001b[1;37m            ^\u001b[0m\n\u001b[1;31mSyntaxError\u001b[0m\u001b[1;31m:\u001b[0m invalid syntax\n"
     ]
    }
   ],
   "source": [
    "a=10\n",
    "if a==10"
   ]
  },
  {
   "cell_type": "code",
   "execution_count": 2,
   "id": "06f6f8e5",
   "metadata": {},
   "outputs": [
    {
     "name": "stdout",
     "output_type": "stream",
     "text": [
      "this is my first condition\n"
     ]
    }
   ],
   "source": [
    "a=10\n",
    "if a==10:\n",
    "    print(\"this is my first condition\")"
   ]
  },
  {
   "cell_type": "code",
   "execution_count": 4,
   "id": "c7c36390",
   "metadata": {},
   "outputs": [],
   "source": [
    "a=10\n",
    "if a==11:\n",
    "    print(\"this is my first condition\")"
   ]
  },
  {
   "cell_type": "code",
   "execution_count": 5,
   "id": "a0e29f83",
   "metadata": {},
   "outputs": [
    {
     "ename": "IndentationError",
     "evalue": "expected an indented block (Temp/ipykernel_2476/3490402084.py, line 3)",
     "output_type": "error",
     "traceback": [
      "\u001b[1;36m  File \u001b[1;32m\"C:\\Users\\DELL\\AppData\\Local\\Temp/ipykernel_2476/3490402084.py\"\u001b[1;36m, line \u001b[1;32m3\u001b[0m\n\u001b[1;33m    \u001b[0m\n\u001b[1;37m    ^\u001b[0m\n\u001b[1;31mIndentationError\u001b[0m\u001b[1;31m:\u001b[0m expected an indented block\n"
     ]
    }
   ],
   "source": [
    "a=10\n",
    "if a>5:\n",
    "    "
   ]
  },
  {
   "cell_type": "code",
   "execution_count": 6,
   "id": "7261a9d3",
   "metadata": {},
   "outputs": [],
   "source": [
    "a=10\n",
    "if a>5:\n",
    "    pass"
   ]
  },
  {
   "cell_type": "code",
   "execution_count": 7,
   "id": "3afbc059",
   "metadata": {},
   "outputs": [
    {
     "name": "stdout",
     "output_type": "stream",
     "text": [
      "print this if condition is true\n"
     ]
    }
   ],
   "source": [
    "a=10\n",
    "if a>8:\n",
    "    print(\"print this if condition is true\")"
   ]
  },
  {
   "cell_type": "code",
   "execution_count": 9,
   "id": "48d5c6d9",
   "metadata": {},
   "outputs": [],
   "source": [
    "a=10\n",
    "if a<8:\n",
    "    print(\"print this if condition is true\")"
   ]
  },
  {
   "cell_type": "code",
   "execution_count": 14,
   "id": "ed428ac9",
   "metadata": {},
   "outputs": [
    {
     "ename": "SyntaxError",
     "evalue": "invalid syntax (Temp/ipykernel_2476/1755696067.py, line 4)",
     "output_type": "error",
     "traceback": [
      "\u001b[1;36m  File \u001b[1;32m\"C:\\Users\\DELL\\AppData\\Local\\Temp/ipykernel_2476/1755696067.py\"\u001b[1;36m, line \u001b[1;32m4\u001b[0m\n\u001b[1;33m    else:\u001b[0m\n\u001b[1;37m    ^\u001b[0m\n\u001b[1;31mSyntaxError\u001b[0m\u001b[1;31m:\u001b[0m invalid syntax\n"
     ]
    }
   ],
   "source": [
    "a=10\n",
    "if a!=11:\n",
    "    print(\"my conditio is false\")\n",
    "    else:\n",
    "        print(\"print this\")\n",
    "\n",
    "    "
   ]
  },
  {
   "cell_type": "code",
   "execution_count": 28,
   "id": "387bde37",
   "metadata": {},
   "outputs": [
    {
     "name": "stdout",
     "output_type": "stream",
     "text": [
      "print this\n"
     ]
    }
   ],
   "source": [
    "a = 10\n",
    "if a == 11:\n",
    "    print(\"my conditio is false\")\n",
    "else:\n",
    "    print(\"print this\")\n"
   ]
  },
  {
   "cell_type": "code",
   "execution_count": 27,
   "id": "62a9fcf7",
   "metadata": {},
   "outputs": [
    {
     "name": "stdout",
     "output_type": "stream",
     "text": [
      "we are\n"
     ]
    }
   ],
   "source": [
    "a = 10\n",
    "if a == 12:\n",
    "    print(\"here we are trying to compear 10 with 12\")\n",
    "elif a==10:\n",
    "    print(\"we are\")\n",
    "else:\n",
    "    print(\"hhkk\")\n",
    "    "
   ]
  },
  {
   "cell_type": "code",
   "execution_count": 29,
   "id": "146d8fd5",
   "metadata": {},
   "outputs": [],
   "source": [
    "price=500\n",
    "if price>500:\n",
    "    print(\"wont be able to buy jacket\")\n",
    "elif price<500:\n",
    "    print(\"i will able to but jacket\")"
   ]
  },
  {
   "cell_type": "code",
   "execution_count": null,
   "id": "9b43d311",
   "metadata": {},
   "outputs": [],
   "source": [
    "##bcz we have compear 500 to 500 thats why no out come##"
   ]
  },
  {
   "cell_type": "code",
   "execution_count": 30,
   "id": "d35ae83f",
   "metadata": {},
   "outputs": [
    {
     "name": "stdout",
     "output_type": "stream",
     "text": [
      "i will able to but jacket\n"
     ]
    }
   ],
   "source": [
    "price=500\n",
    "if price>500:\n",
    "    print(\"wont be able to buy jacket\")\n",
    "elif price<=500:\n",
    "    print(\"i will able to but jacket\")"
   ]
  },
  {
   "cell_type": "code",
   "execution_count": 31,
   "id": "f46c957a",
   "metadata": {},
   "outputs": [],
   "source": [
    "## second condition is full fill##"
   ]
  },
  {
   "cell_type": "code",
   "execution_count": 32,
   "id": "ce7454a9",
   "metadata": {},
   "outputs": [
    {
     "ename": "SyntaxError",
     "evalue": "invalid syntax (Temp/ipykernel_2476/1079170573.py, line 6)",
     "output_type": "error",
     "traceback": [
      "\u001b[1;36m  File \u001b[1;32m\"C:\\Users\\DELL\\AppData\\Local\\Temp/ipykernel_2476/1079170573.py\"\u001b[1;36m, line \u001b[1;32m6\u001b[0m\n\u001b[1;33m    else print==500:\u001b[0m\n\u001b[1;37m         ^\u001b[0m\n\u001b[1;31mSyntaxError\u001b[0m\u001b[1;31m:\u001b[0m invalid syntax\n"
     ]
    }
   ],
   "source": [
    "rice=500\n",
    "if price>500:\n",
    "    print(\"wont be able to buy jacket\")\n",
    "elif price<500:\n",
    "    print(\"i will able to but jacket\")\n",
    "else print==500:\n",
    "    print(\"i dont know\")"
   ]
  },
  {
   "cell_type": "code",
   "execution_count": 34,
   "id": "4300ed8e",
   "metadata": {},
   "outputs": [],
   "source": [
    "## in else block we should not give any condition##\n",
    "##we can put more elif conditon ##"
   ]
  },
  {
   "cell_type": "code",
   "execution_count": 36,
   "id": "04f23e28",
   "metadata": {},
   "outputs": [
    {
     "ename": "IndentationError",
     "evalue": "expected an indented block (Temp/ipykernel_2476/3449851683.py, line 8)",
     "output_type": "error",
     "traceback": [
      "\u001b[1;36m  File \u001b[1;32m\"C:\\Users\\DELL\\AppData\\Local\\Temp/ipykernel_2476/3449851683.py\"\u001b[1;36m, line \u001b[1;32m8\u001b[0m\n\u001b[1;33m    else :\u001b[0m\n\u001b[1;37m    ^\u001b[0m\n\u001b[1;31mIndentationError\u001b[0m\u001b[1;31m:\u001b[0m expected an indented block\n"
     ]
    }
   ],
   "source": [
    "rice=500\n",
    "if price>500:\n",
    "    print(\"wont be able to buy jacket\")\n",
    "elif price<500:\n",
    "    print(\"i will able to but jacket\")\n",
    "elif price==500:\n",
    "    \n",
    "else :\n",
    "     print(\"i dont know\") \n",
    "    "
   ]
  },
  {
   "cell_type": "code",
   "execution_count": 37,
   "id": "0e99f981",
   "metadata": {},
   "outputs": [
    {
     "data": {
      "text/plain": [
       "True"
      ]
     },
     "execution_count": 37,
     "metadata": {},
     "output_type": "execute_result"
    }
   ],
   "source": [
    "l=[1,2,3,4,5,6]\n",
    "2in l"
   ]
  },
  {
   "cell_type": "code",
   "execution_count": 38,
   "id": "c84aa374",
   "metadata": {},
   "outputs": [
    {
     "name": "stdout",
     "output_type": "stream",
     "text": [
      "perform\n"
     ]
    }
   ],
   "source": [
    "if 2 in l:\n",
    "    print(\"perform\")\n",
    "else:\n",
    "    print(\"not perform\")"
   ]
  },
  {
   "cell_type": "code",
   "execution_count": 39,
   "id": "b2272b8e",
   "metadata": {},
   "outputs": [
    {
     "name": "stdout",
     "output_type": "stream",
     "text": [
      "not perform\n"
     ]
    }
   ],
   "source": [
    "if 60 in l:\n",
    "    print(\"perform\")\n",
    "else:\n",
    "    print(\"not perform\")"
   ]
  },
  {
   "cell_type": "code",
   "execution_count": 40,
   "id": "95986c90",
   "metadata": {},
   "outputs": [
    {
     "data": {
      "text/plain": [
       "False"
      ]
     },
     "execution_count": 40,
     "metadata": {},
     "output_type": "execute_result"
    }
   ],
   "source": [
    "60 in l"
   ]
  },
  {
   "cell_type": "code",
   "execution_count": 41,
   "id": "cc0fde5c",
   "metadata": {},
   "outputs": [
    {
     "data": {
      "text/plain": [
       "[1, 2, 3, 4, 5, 6]"
      ]
     },
     "execution_count": 41,
     "metadata": {},
     "output_type": "execute_result"
    }
   ],
   "source": [
    "l"
   ]
  },
  {
   "cell_type": "code",
   "execution_count": 43,
   "id": "88cc2866",
   "metadata": {},
   "outputs": [
    {
     "name": "stdout",
     "output_type": "stream",
     "text": [
      "ädditon\n"
     ]
    }
   ],
   "source": [
    "if 1 in l:\n",
    "    print(\"ädditon\")\n",
    "elif 2 in l:\n",
    "    print(\"sub\")\n",
    "elif 3 in l :\n",
    "    print(\"multi\")\n",
    "    "
   ]
  },
  {
   "cell_type": "code",
   "execution_count": 44,
   "id": "0fcfd7bf",
   "metadata": {},
   "outputs": [
    {
     "name": "stdout",
     "output_type": "stream",
     "text": [
      "sub\n"
     ]
    }
   ],
   "source": [
    "if 10 in l:\n",
    "    print(\"ädditon\")\n",
    "elif 2 in l:\n",
    "    print(\"sub\")\n",
    "elif 3 in l :\n",
    "    print(\"multi\")"
   ]
  },
  {
   "cell_type": "code",
   "execution_count": 45,
   "id": "06885f60",
   "metadata": {},
   "outputs": [
    {
     "name": "stdout",
     "output_type": "stream",
     "text": [
      "multi\n"
     ]
    }
   ],
   "source": [
    "if 10 in l:\n",
    "    print(\"ädditon\")\n",
    "elif 20 in l:\n",
    "    print(\"sub\")\n",
    "elif 3 in l :\n",
    "    print(\"multi\")"
   ]
  },
  {
   "cell_type": "code",
   "execution_count": 46,
   "id": "1570310d",
   "metadata": {},
   "outputs": [],
   "source": [
    "if 10 in l:\n",
    "    print(\"ädditon\")\n",
    "elif 20 in l:\n",
    "    print(\"sub\")\n",
    "elif 30 in l :\n",
    "    print(\"multi\")"
   ]
  },
  {
   "cell_type": "code",
   "execution_count": 47,
   "id": "7bf3d425",
   "metadata": {},
   "outputs": [
    {
     "name": "stdout",
     "output_type": "stream",
     "text": [
      "sub\n",
      "this is new statment\n"
     ]
    }
   ],
   "source": [
    "if 10 in l:\n",
    "    print(\"ädditon\")\n",
    "elif 2 in l:\n",
    "    print(\"sub\")\n",
    "elif 3 in l :\n",
    "    print(\"multi\")\n",
    "if 4 in l:\n",
    "    print(\"this is new statment\")"
   ]
  },
  {
   "cell_type": "code",
   "execution_count": 49,
   "id": "1fa42d2c",
   "metadata": {},
   "outputs": [],
   "source": [
    "##bcz second #if# is new block not related to first block##"
   ]
  },
  {
   "cell_type": "code",
   "execution_count": 50,
   "id": "6503ba2a",
   "metadata": {},
   "outputs": [],
   "source": [
    "a=400"
   ]
  },
  {
   "cell_type": "code",
   "execution_count": 51,
   "id": "18ddfd7e",
   "metadata": {},
   "outputs": [
    {
     "name": "stdout",
     "output_type": "stream",
     "text": [
      "ghggkhjkh\n"
     ]
    }
   ],
   "source": [
    "b=input()"
   ]
  },
  {
   "cell_type": "code",
   "execution_count": 52,
   "id": "06702cc9",
   "metadata": {},
   "outputs": [
    {
     "data": {
      "text/plain": [
       "'ghggkhjkh'"
      ]
     },
     "execution_count": 52,
     "metadata": {},
     "output_type": "execute_result"
    }
   ],
   "source": [
    "b"
   ]
  },
  {
   "cell_type": "code",
   "execution_count": 53,
   "id": "6550254f",
   "metadata": {},
   "outputs": [
    {
     "name": "stdout",
     "output_type": "stream",
     "text": [
      "400\n"
     ]
    }
   ],
   "source": [
    "b=input()"
   ]
  },
  {
   "cell_type": "code",
   "execution_count": 54,
   "id": "57dec16e",
   "metadata": {},
   "outputs": [
    {
     "data": {
      "text/plain": [
       "'400'"
      ]
     },
     "execution_count": 54,
     "metadata": {},
     "output_type": "execute_result"
    }
   ],
   "source": [
    "b"
   ]
  },
  {
   "cell_type": "code",
   "execution_count": 55,
   "id": "37a541fd",
   "metadata": {
    "scrolled": true
   },
   "outputs": [
    {
     "data": {
      "text/plain": [
       "str"
      ]
     },
     "execution_count": 55,
     "metadata": {},
     "output_type": "execute_result"
    }
   ],
   "source": [
    "type(b)"
   ]
  },
  {
   "cell_type": "code",
   "execution_count": null,
   "id": "b3da6059",
   "metadata": {},
   "outputs": [],
   "source": []
  },
  {
   "cell_type": "code",
   "execution_count": null,
   "id": "a1550d74",
   "metadata": {},
   "outputs": [],
   "source": []
  },
  {
   "cell_type": "code",
   "execution_count": null,
   "id": "2b5533c2",
   "metadata": {},
   "outputs": [],
   "source": []
  },
  {
   "cell_type": "code",
   "execution_count": null,
   "id": "dd165713",
   "metadata": {},
   "outputs": [],
   "source": []
  },
  {
   "cell_type": "code",
   "execution_count": 56,
   "id": "dcfcffe0",
   "metadata": {},
   "outputs": [
    {
     "name": "stdout",
     "output_type": "stream",
     "text": [
      "333\n"
     ]
    }
   ],
   "source": [
    "b=int(input())"
   ]
  },
  {
   "cell_type": "code",
   "execution_count": null,
   "id": "48938513",
   "metadata": {},
   "outputs": [],
   "source": [
    "type(b)"
   ]
  },
  {
   "cell_type": "code",
   "execution_count": null,
   "id": "fa72fe75",
   "metadata": {},
   "outputs": [],
   "source": [
    "price=int(input())\n",
    "if price<500:\n",
    "    print(\"buy something\")\n",
    "    if price<400:\n",
    "        print(\"buy jacket\")\n",
    "    elif price<300:\n",
    "        print(\"buy shirt\")\n",
    "    else:\n",
    "        print(\"buy anything\")\n"
   ]
  },
  {
   "cell_type": "code",
   "execution_count": null,
   "id": "274f1691",
   "metadata": {},
   "outputs": [],
   "source": []
  },
  {
   "cell_type": "code",
   "execution_count": null,
   "id": "0e74bb73",
   "metadata": {},
   "outputs": [],
   "source": []
  },
  {
   "cell_type": "code",
   "execution_count": null,
   "id": "a503629a",
   "metadata": {},
   "outputs": [],
   "source": [
    "price=int(input())\n",
    "if price<500:\n",
    "    print(\"buy something\")\n",
    "    if price<400:\n",
    "        print(\"buy jacket\")\n",
    "    elif price<300:\n",
    "        print(\"buy shirt\")\n",
    "    else:\n",
    "        print(\"buy anything\")\n",
    "        \n",
    "else:\n",
    "    print(\"buy any thingh in this price\")\n",
    "    "
   ]
  },
  {
   "cell_type": "code",
   "execution_count": null,
   "id": "37f875bf",
   "metadata": {},
   "outputs": [],
   "source": [
    "price = int(input())\n",
    "if price<500:\n",
    "    print(\"buy something\")\n",
    "    if price<400:\n",
    "        print(\"buy jacket\")\n",
    "    elif price<300:\n",
    "        print(\"buy shirt\")\n",
    "    else:\n",
    "        print(\"buy anything\")"
   ]
  },
  {
   "cell_type": "code",
   "execution_count": null,
   "id": "7e9b0ea7",
   "metadata": {},
   "outputs": [],
   "source": [
    "price = int(input())\n",
    "if price<500:\n",
    "    print(\"gg\")"
   ]
  },
  {
   "cell_type": "code",
   "execution_count": null,
   "id": "5941ff50",
   "metadata": {},
   "outputs": [],
   "source": []
  },
  {
   "cell_type": "code",
   "execution_count": null,
   "id": "41aa11d5",
   "metadata": {},
   "outputs": [],
   "source": [
    "l"
   ]
  },
  {
   "cell_type": "code",
   "execution_count": null,
   "id": "b0558e30",
   "metadata": {},
   "outputs": [],
   "source": []
  }
 ],
 "metadata": {
  "kernelspec": {
   "display_name": "Python 3 (ipykernel)",
   "language": "python",
   "name": "python3"
  },
  "language_info": {
   "codemirror_mode": {
    "name": "ipython",
    "version": 3
   },
   "file_extension": ".py",
   "mimetype": "text/x-python",
   "name": "python",
   "nbconvert_exporter": "python",
   "pygments_lexer": "ipython3",
   "version": "3.9.7"
  }
 },
 "nbformat": 4,
 "nbformat_minor": 5
}
