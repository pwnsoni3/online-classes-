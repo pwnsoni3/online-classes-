{
 "cells": [
  {
   "cell_type": "code",
   "execution_count": 1,
   "id": "c74f3246",
   "metadata": {},
   "outputs": [
    {
     "name": "stdout",
     "output_type": "stream",
     "text": [
      "600\n"
     ]
    }
   ],
   "source": [
    "marks = int(input())"
   ]
  },
  {
   "cell_type": "code",
   "execution_count": null,
   "id": "a77f3ade",
   "metadata": {},
   "outputs": [],
   "source": [
    "if marks< 600:\n",
    "    print(\"no gre\")\n",
    "    if marks<500:\n",
    "        print(\"TOFFEL\")\n",
    "        if marks<400:\n",
    "            print(\"somingh else\")\n",
    "    else:\n",
    "        print(\"got toffel\")\n",
    "else:\n",
    "    print(\"congrats\")\n",
    "    "
   ]
  },
  {
   "cell_type": "code",
   "execution_count": null,
   "id": "49720bc9",
   "metadata": {},
   "outputs": [],
   "source": [
    "mark = int(input())"
   ]
  },
  {
   "cell_type": "code",
   "execution_count": null,
   "id": "085bcde3",
   "metadata": {},
   "outputs": [],
   "source": [
    "b=input()"
   ]
  },
  {
   "cell_type": "code",
   "execution_count": null,
   "id": "f9036adc",
   "metadata": {},
   "outputs": [],
   "source": [
    "r = int(input())\n",
    "if r< 600:\n",
    "    print(\"no gre\")\n",
    "    if r<500:\n",
    "         print(\"TOFFEL\")\n",
    "    if r<400:\n",
    "         print(\"somingh else\")\n",
    "    else:\n",
    "         print(\"got toffel\")\n",
    "                \n",
    "else:\n",
    "    print(\"congrats\")    "
   ]
  },
  {
   "cell_type": "code",
   "execution_count": null,
   "id": "6667b07d",
   "metadata": {},
   "outputs": [],
   "source": [
    "X"
   ]
  },
  {
   "cell_type": "code",
   "execution_count": null,
   "id": "815b7604",
   "metadata": {},
   "outputs": [],
   "source": []
  },
  {
   "cell_type": "code",
   "execution_count": null,
   "id": "caefffff",
   "metadata": {},
   "outputs": [],
   "source": [
    "r = int(input())"
   ]
  },
  {
   "cell_type": "code",
   "execution_count": null,
   "id": "494ab5be",
   "metadata": {},
   "outputs": [],
   "source": []
  },
  {
   "cell_type": "code",
   "execution_count": null,
   "id": "b9d403f7",
   "metadata": {},
   "outputs": [],
   "source": [
    "h=input()"
   ]
  },
  {
   "cell_type": "code",
   "execution_count": null,
   "id": "71f874a6",
   "metadata": {},
   "outputs": [],
   "source": [
    "q=input()"
   ]
  },
  {
   "cell_type": "code",
   "execution_count": null,
   "id": "f0f3aeb5",
   "metadata": {},
   "outputs": [],
   "source": [
    "3"
   ]
  },
  {
   "cell_type": "code",
   "execution_count": null,
   "id": "efa646ee",
   "metadata": {},
   "outputs": [],
   "source": [
    "b = input()"
   ]
  },
  {
   "cell_type": "code",
   "execution_count": null,
   "id": "96f7b39a",
   "metadata": {},
   "outputs": [],
   "source": []
  },
  {
   "cell_type": "code",
   "execution_count": null,
   "id": "7643c4d7",
   "metadata": {},
   "outputs": [],
   "source": [
    "pawan=input()"
   ]
  },
  {
   "cell_type": "code",
   "execution_count": null,
   "id": "fed56972",
   "metadata": {},
   "outputs": [],
   "source": [
    "a=10\n",
    "if a<=10 or a==10:\n",
    "    print(\"fgdg\")"
   ]
  },
  {
   "cell_type": "code",
   "execution_count": null,
   "id": "0312d3e9",
   "metadata": {},
   "outputs": [],
   "source": [
    "a=10\n",
    "if a<=10 or a>10:\n",
    "    print(\"fgdg\")"
   ]
  },
  {
   "cell_type": "code",
   "execution_count": null,
   "id": "a22ef1e2",
   "metadata": {},
   "outputs": [],
   "source": [
    "a=10\n",
    "if a<=10 and a==10:\n",
    "    print(\"fgdg\")"
   ]
  },
  {
   "cell_type": "code",
   "execution_count": null,
   "id": "f0c86a00",
   "metadata": {},
   "outputs": [],
   "source": [
    "a=\"sudh\"\n",
    "if a == \"sudh\" or a== \"sudh\":\n",
    "    print(\"this is sudh\")"
   ]
  },
  {
   "cell_type": "code",
   "execution_count": null,
   "id": "3e02d920",
   "metadata": {},
   "outputs": [],
   "source": [
    "marks = int(input())"
   ]
  },
  {
   "cell_type": "markdown",
   "id": "52dedfb5",
   "metadata": {},
   "source": []
  },
  {
   "cell_type": "code",
   "execution_count": null,
   "id": "e86bd132",
   "metadata": {},
   "outputs": [],
   "source": [
    "a=10\n",
    "b=11\n",
    "c=12\n",
    "d=13\n",
    "if a==9 or b == 11 and c== 12 and d==13:\n",
    "    print(\"do somthingh\")"
   ]
  },
  {
   "cell_type": "code",
   "execution_count": null,
   "id": "e2d03272",
   "metadata": {},
   "outputs": [],
   "source": []
  }
 ],
 "metadata": {
  "kernelspec": {
   "display_name": "Python 3 (ipykernel)",
   "language": "python",
   "name": "python3"
  },
  "language_info": {
   "codemirror_mode": {
    "name": "ipython",
    "version": 3
   },
   "file_extension": ".py",
   "mimetype": "text/x-python",
   "name": "python",
   "nbconvert_exporter": "python",
   "pygments_lexer": "ipython3",
   "version": "3.9.7"
  }
 },
 "nbformat": 4,
 "nbformat_minor": 5
}
