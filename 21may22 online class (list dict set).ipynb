{
 "cells": [
  {
   "cell_type": "code",
   "execution_count": 2,
   "id": "eb856965",
   "metadata": {},
   "outputs": [],
   "source": [
    "I=[1,2,3,4,5,\"sudh\",45.546,True]"
   ]
  },
  {
   "cell_type": "code",
   "execution_count": 3,
   "id": "73059e64",
   "metadata": {},
   "outputs": [
    {
     "data": {
      "text/plain": [
       "1"
      ]
     },
     "execution_count": 3,
     "metadata": {},
     "output_type": "execute_result"
    }
   ],
   "source": [
    "I[0]"
   ]
  },
  {
   "cell_type": "code",
   "execution_count": 4,
   "id": "e96cf8bd",
   "metadata": {},
   "outputs": [
    {
     "data": {
      "text/plain": [
       "True"
      ]
     },
     "execution_count": 4,
     "metadata": {},
     "output_type": "execute_result"
    }
   ],
   "source": [
    "I[-1]"
   ]
  },
  {
   "cell_type": "code",
   "execution_count": 5,
   "id": "e06ee9ce",
   "metadata": {},
   "outputs": [
    {
     "data": {
      "text/plain": [
       "8"
      ]
     },
     "execution_count": 5,
     "metadata": {},
     "output_type": "execute_result"
    }
   ],
   "source": [
    "len(I)"
   ]
  },
  {
   "cell_type": "code",
   "execution_count": 6,
   "id": "f7682289",
   "metadata": {},
   "outputs": [
    {
     "data": {
      "text/plain": [
       "[1, 2, 3, 4, 5]"
      ]
     },
     "execution_count": 6,
     "metadata": {},
     "output_type": "execute_result"
    }
   ],
   "source": [
    "I[0:5]"
   ]
  },
  {
   "cell_type": "code",
   "execution_count": 7,
   "id": "4e4a0783",
   "metadata": {},
   "outputs": [
    {
     "data": {
      "text/plain": [
       "[True, 45.546, 'sudh', 5, 4, 3, 2, 1]"
      ]
     },
     "execution_count": 7,
     "metadata": {},
     "output_type": "execute_result"
    }
   ],
   "source": [
    "I[::-1]"
   ]
  },
  {
   "cell_type": "code",
   "execution_count": 8,
   "id": "e671ba85",
   "metadata": {},
   "outputs": [
    {
     "data": {
      "text/plain": [
       "[1, 2, 3, 4, 5, 'sudh', 45.546, True]"
      ]
     },
     "execution_count": 8,
     "metadata": {},
     "output_type": "execute_result"
    }
   ],
   "source": [
    "I[0:100]"
   ]
  },
  {
   "cell_type": "code",
   "execution_count": 9,
   "id": "5c16add4",
   "metadata": {},
   "outputs": [
    {
     "data": {
      "text/plain": [
       "[1, 3, 5, 45.546]"
      ]
     },
     "execution_count": 9,
     "metadata": {},
     "output_type": "execute_result"
    }
   ],
   "source": [
    "I[0:100:2]"
   ]
  },
  {
   "cell_type": "code",
   "execution_count": 10,
   "id": "3c3648ab",
   "metadata": {},
   "outputs": [
    {
     "data": {
      "text/plain": [
       "[]"
      ]
     },
     "execution_count": 10,
     "metadata": {},
     "output_type": "execute_result"
    }
   ],
   "source": [
    "I[0:8:-1]"
   ]
  },
  {
   "cell_type": "code",
   "execution_count": 11,
   "id": "b967f041",
   "metadata": {},
   "outputs": [
    {
     "ename": "TypeError",
     "evalue": "can only concatenate list (not \"str\") to list",
     "output_type": "error",
     "traceback": [
      "\u001b[1;31m---------------------------------------------------------------------------\u001b[0m",
      "\u001b[1;31mTypeError\u001b[0m                                 Traceback (most recent call last)",
      "\u001b[1;32m~\\AppData\\Local\\Temp/ipykernel_11980/1389161644.py\u001b[0m in \u001b[0;36m<module>\u001b[1;34m\u001b[0m\n\u001b[1;32m----> 1\u001b[1;33m \u001b[0mI\u001b[0m\u001b[1;33m+\u001b[0m\u001b[1;34m\"sudh\"\u001b[0m\u001b[1;33m\u001b[0m\u001b[1;33m\u001b[0m\u001b[0m\n\u001b[0m",
      "\u001b[1;31mTypeError\u001b[0m: can only concatenate list (not \"str\") to list"
     ]
    }
   ],
   "source": [
    "I+\"sudh\""
   ]
  },
  {
   "cell_type": "code",
   "execution_count": 12,
   "id": "0036be5d",
   "metadata": {},
   "outputs": [
    {
     "data": {
      "text/plain": [
       "[1, 2, 3, 4, 5, 'sudh', 45.546, True, 1, 2, 3, 4, 5, 'sudh', 45.546, True]"
      ]
     },
     "execution_count": 12,
     "metadata": {},
     "output_type": "execute_result"
    }
   ],
   "source": [
    "I*2"
   ]
  },
  {
   "cell_type": "code",
   "execution_count": 13,
   "id": "ed01fe86",
   "metadata": {},
   "outputs": [
    {
     "data": {
      "text/plain": [
       "False"
      ]
     },
     "execution_count": 13,
     "metadata": {},
     "output_type": "execute_result"
    }
   ],
   "source": [
    "60 in I"
   ]
  },
  {
   "cell_type": "code",
   "execution_count": 14,
   "id": "0862d881",
   "metadata": {},
   "outputs": [
    {
     "data": {
      "text/plain": [
       "True"
      ]
     },
     "execution_count": 14,
     "metadata": {},
     "output_type": "execute_result"
    }
   ],
   "source": [
    "2 in I"
   ]
  },
  {
   "cell_type": "code",
   "execution_count": 15,
   "id": "118e0009",
   "metadata": {},
   "outputs": [],
   "source": [
    "I1=[3,4,5,6,6]"
   ]
  },
  {
   "cell_type": "code",
   "execution_count": 16,
   "id": "7bbbe39e",
   "metadata": {},
   "outputs": [
    {
     "data": {
      "text/plain": [
       "6"
      ]
     },
     "execution_count": 16,
     "metadata": {},
     "output_type": "execute_result"
    }
   ],
   "source": [
    "max(I1)"
   ]
  },
  {
   "cell_type": "code",
   "execution_count": 17,
   "id": "284e2cd7",
   "metadata": {},
   "outputs": [
    {
     "data": {
      "text/plain": [
       "[1, 2, 3, 4, 5, 'sudh', 45.546, True]"
      ]
     },
     "execution_count": 17,
     "metadata": {},
     "output_type": "execute_result"
    }
   ],
   "source": [
    "I"
   ]
  },
  {
   "cell_type": "code",
   "execution_count": 18,
   "id": "cb154658",
   "metadata": {},
   "outputs": [],
   "source": [
    "I2=[\"sudh\", \"ineuron\", \"kumar\"]"
   ]
  },
  {
   "cell_type": "code",
   "execution_count": 19,
   "id": "99fcc048",
   "metadata": {},
   "outputs": [
    {
     "data": {
      "text/plain": [
       "'sudh'"
      ]
     },
     "execution_count": 19,
     "metadata": {},
     "output_type": "execute_result"
    }
   ],
   "source": [
    "max(I2)"
   ]
  },
  {
   "cell_type": "code",
   "execution_count": 20,
   "id": "e74ffe7b",
   "metadata": {},
   "outputs": [
    {
     "data": {
      "text/plain": [
       "3"
      ]
     },
     "execution_count": 20,
     "metadata": {},
     "output_type": "execute_result"
    }
   ],
   "source": [
    "min(I1)"
   ]
  },
  {
   "cell_type": "code",
   "execution_count": 21,
   "id": "51ab1047",
   "metadata": {},
   "outputs": [
    {
     "data": {
      "text/plain": [
       "'ineuron'"
      ]
     },
     "execution_count": 21,
     "metadata": {},
     "output_type": "execute_result"
    }
   ],
   "source": [
    "min(I2)"
   ]
  },
  {
   "cell_type": "code",
   "execution_count": 23,
   "id": "30a020cf",
   "metadata": {},
   "outputs": [],
   "source": [
    "I.append(\"kumar\")"
   ]
  },
  {
   "cell_type": "code",
   "execution_count": 24,
   "id": "cd73bc0d",
   "metadata": {},
   "outputs": [],
   "source": [
    "I2.append(\"kumar\")"
   ]
  },
  {
   "cell_type": "code",
   "execution_count": 25,
   "id": "4b751ea2",
   "metadata": {},
   "outputs": [],
   "source": [
    "I2.append(\"pawn\")"
   ]
  },
  {
   "cell_type": "code",
   "execution_count": 26,
   "id": "7ef1d89c",
   "metadata": {},
   "outputs": [
    {
     "data": {
      "text/plain": [
       "['sudh', 'ineuron', 'kumar', 'kumar', 'pawn']"
      ]
     },
     "execution_count": 26,
     "metadata": {},
     "output_type": "execute_result"
    }
   ],
   "source": [
    "I2"
   ]
  },
  {
   "cell_type": "code",
   "execution_count": 27,
   "id": "a964cb01",
   "metadata": {},
   "outputs": [
    {
     "ename": "SyntaxError",
     "evalue": "invalid syntax (Temp/ipykernel_11980/4027036552.py, line 1)",
     "output_type": "error",
     "traceback": [
      "\u001b[1;36m  File \u001b[1;32m\"C:\\Users\\DELL\\AppData\\Local\\Temp/ipykernel_11980/4027036552.py\"\u001b[1;36m, line \u001b[1;32m1\u001b[0m\n\u001b[1;33m    1.pop(I)\u001b[0m\n\u001b[1;37m      ^\u001b[0m\n\u001b[1;31mSyntaxError\u001b[0m\u001b[1;31m:\u001b[0m invalid syntax\n"
     ]
    }
   ],
   "source": [
    "1.pop(I)"
   ]
  },
  {
   "cell_type": "code",
   "execution_count": 28,
   "id": "91122ecd",
   "metadata": {},
   "outputs": [
    {
     "data": {
      "text/plain": [
       "1"
      ]
     },
     "execution_count": 28,
     "metadata": {},
     "output_type": "execute_result"
    }
   ],
   "source": [
    "I.pop(0)"
   ]
  },
  {
   "cell_type": "code",
   "execution_count": 29,
   "id": "7080f6de",
   "metadata": {},
   "outputs": [
    {
     "data": {
      "text/plain": [
       "[2, 3, 4, 5, 'sudh', 45.546, True, 'kumar']"
      ]
     },
     "execution_count": 29,
     "metadata": {},
     "output_type": "execute_result"
    }
   ],
   "source": [
    "I"
   ]
  },
  {
   "cell_type": "code",
   "execution_count": 30,
   "id": "6428b2f7",
   "metadata": {},
   "outputs": [
    {
     "data": {
      "text/plain": [
       "'kumar'"
      ]
     },
     "execution_count": 30,
     "metadata": {},
     "output_type": "execute_result"
    }
   ],
   "source": [
    "I.pop()"
   ]
  },
  {
   "cell_type": "code",
   "execution_count": 31,
   "id": "add9993d",
   "metadata": {},
   "outputs": [
    {
     "data": {
      "text/plain": [
       "[2, 3, 4, 5, 'sudh', 45.546, True]"
      ]
     },
     "execution_count": 31,
     "metadata": {},
     "output_type": "execute_result"
    }
   ],
   "source": [
    "I"
   ]
  },
  {
   "cell_type": "code",
   "execution_count": 32,
   "id": "0e95098e",
   "metadata": {},
   "outputs": [],
   "source": [
    "I.reverse()"
   ]
  },
  {
   "cell_type": "code",
   "execution_count": 33,
   "id": "308ee220",
   "metadata": {},
   "outputs": [
    {
     "data": {
      "text/plain": [
       "[True, 45.546, 'sudh', 5, 4, 3, 2]"
      ]
     },
     "execution_count": 33,
     "metadata": {},
     "output_type": "execute_result"
    }
   ],
   "source": [
    "I"
   ]
  },
  {
   "cell_type": "code",
   "execution_count": 34,
   "id": "d55ca79e",
   "metadata": {},
   "outputs": [
    {
     "data": {
      "text/plain": [
       "[True, 45.546, 'sudh', 5, 4, 3, 2]"
      ]
     },
     "execution_count": 34,
     "metadata": {},
     "output_type": "execute_result"
    }
   ],
   "source": [
    "I"
   ]
  },
  {
   "cell_type": "code",
   "execution_count": 35,
   "id": "f232ae21",
   "metadata": {},
   "outputs": [
    {
     "ename": "TypeError",
     "evalue": "'<' not supported between instances of 'str' and 'float'",
     "output_type": "error",
     "traceback": [
      "\u001b[1;31m---------------------------------------------------------------------------\u001b[0m",
      "\u001b[1;31mTypeError\u001b[0m                                 Traceback (most recent call last)",
      "\u001b[1;32m~\\AppData\\Local\\Temp/ipykernel_11980/267497459.py\u001b[0m in \u001b[0;36m<module>\u001b[1;34m\u001b[0m\n\u001b[1;32m----> 1\u001b[1;33m \u001b[0mI\u001b[0m\u001b[1;33m.\u001b[0m\u001b[0msort\u001b[0m\u001b[1;33m(\u001b[0m\u001b[1;33m)\u001b[0m\u001b[1;33m\u001b[0m\u001b[1;33m\u001b[0m\u001b[0m\n\u001b[0m",
      "\u001b[1;31mTypeError\u001b[0m: '<' not supported between instances of 'str' and 'float'"
     ]
    }
   ],
   "source": [
    "I.sort()"
   ]
  },
  {
   "cell_type": "code",
   "execution_count": 36,
   "id": "4f36f5de",
   "metadata": {},
   "outputs": [
    {
     "data": {
      "text/plain": [
       "[3, 4, 5, 6, 6]"
      ]
     },
     "execution_count": 36,
     "metadata": {},
     "output_type": "execute_result"
    }
   ],
   "source": [
    "I1"
   ]
  },
  {
   "cell_type": "code",
   "execution_count": 37,
   "id": "2c0b6e55",
   "metadata": {},
   "outputs": [],
   "source": [
    "I1.sort()"
   ]
  },
  {
   "cell_type": "code",
   "execution_count": 38,
   "id": "655d0f46",
   "metadata": {},
   "outputs": [
    {
     "data": {
      "text/plain": [
       "[3, 4, 5, 6, 6]"
      ]
     },
     "execution_count": 38,
     "metadata": {},
     "output_type": "execute_result"
    }
   ],
   "source": [
    "I1"
   ]
  },
  {
   "cell_type": "code",
   "execution_count": 39,
   "id": "04032c1b",
   "metadata": {},
   "outputs": [],
   "source": [
    "l3=[8,98,34,23,0]"
   ]
  },
  {
   "cell_type": "code",
   "execution_count": 40,
   "id": "20d20eed",
   "metadata": {},
   "outputs": [],
   "source": [
    "l3.sort()"
   ]
  },
  {
   "cell_type": "code",
   "execution_count": 41,
   "id": "5e12da67",
   "metadata": {},
   "outputs": [
    {
     "data": {
      "text/plain": [
       "[0, 8, 23, 34, 98]"
      ]
     },
     "execution_count": 41,
     "metadata": {},
     "output_type": "execute_result"
    }
   ],
   "source": [
    "l3"
   ]
  },
  {
   "cell_type": "code",
   "execution_count": 42,
   "id": "d66e5a4e",
   "metadata": {},
   "outputs": [],
   "source": [
    "l3.sort(reverse=True)"
   ]
  },
  {
   "cell_type": "code",
   "execution_count": 43,
   "id": "81c3ea43",
   "metadata": {},
   "outputs": [
    {
     "data": {
      "text/plain": [
       "[98, 34, 23, 8, 0]"
      ]
     },
     "execution_count": 43,
     "metadata": {},
     "output_type": "execute_result"
    }
   ],
   "source": [
    "l3"
   ]
  },
  {
   "cell_type": "code",
   "execution_count": 44,
   "id": "86d99890",
   "metadata": {},
   "outputs": [],
   "source": [
    "l1=[2,3,4]\n",
    "l2=[6,7,8]\n",
    "l3=[3,2,4]"
   ]
  },
  {
   "cell_type": "code",
   "execution_count": 45,
   "id": "d7d20a59",
   "metadata": {},
   "outputs": [],
   "source": [
    "l4=[l1,l2,l3]"
   ]
  },
  {
   "cell_type": "code",
   "execution_count": 46,
   "id": "0d654903",
   "metadata": {},
   "outputs": [
    {
     "data": {
      "text/plain": [
       "[[2, 3, 4], [6, 7, 8], [3, 2, 4]]"
      ]
     },
     "execution_count": 46,
     "metadata": {},
     "output_type": "execute_result"
    }
   ],
   "source": [
    "l4"
   ]
  },
  {
   "cell_type": "code",
   "execution_count": 47,
   "id": "b76a77a8",
   "metadata": {},
   "outputs": [
    {
     "data": {
      "text/plain": [
       "[3, 2, 4]"
      ]
     },
     "execution_count": 47,
     "metadata": {},
     "output_type": "execute_result"
    }
   ],
   "source": [
    "l4[2]"
   ]
  },
  {
   "cell_type": "code",
   "execution_count": 49,
   "id": "ae14e33d",
   "metadata": {},
   "outputs": [
    {
     "data": {
      "text/plain": [
       "2"
      ]
     },
     "execution_count": 49,
     "metadata": {},
     "output_type": "execute_result"
    }
   ],
   "source": [
    "l4[2][1]"
   ]
  },
  {
   "cell_type": "code",
   "execution_count": 51,
   "id": "555b935f",
   "metadata": {},
   "outputs": [
    {
     "data": {
      "text/plain": [
       "1"
      ]
     },
     "execution_count": 51,
     "metadata": {},
     "output_type": "execute_result"
    }
   ],
   "source": [
    "l3.count(2)"
   ]
  },
  {
   "cell_type": "markdown",
   "id": "db88837f",
   "metadata": {},
   "source": [
    "l5=[1,2,3,4,5]"
   ]
  },
  {
   "cell_type": "code",
   "execution_count": 52,
   "id": "0614fdc3",
   "metadata": {},
   "outputs": [],
   "source": [
    "l5=[1,2,3,4,5]"
   ]
  },
  {
   "cell_type": "code",
   "execution_count": 53,
   "id": "068949c9",
   "metadata": {},
   "outputs": [
    {
     "data": {
      "text/plain": [
       "1"
      ]
     },
     "execution_count": 53,
     "metadata": {},
     "output_type": "execute_result"
    }
   ],
   "source": [
    "l5.count(1)"
   ]
  },
  {
   "cell_type": "code",
   "execution_count": 55,
   "id": "9b9b8517",
   "metadata": {},
   "outputs": [
    {
     "ename": "IndexError",
     "evalue": "list index out of range",
     "output_type": "error",
     "traceback": [
      "\u001b[1;31m---------------------------------------------------------------------------\u001b[0m",
      "\u001b[1;31mIndexError\u001b[0m                                Traceback (most recent call last)",
      "\u001b[1;32m~\\AppData\\Local\\Temp/ipykernel_11980/1942674237.py\u001b[0m in \u001b[0;36m<module>\u001b[1;34m\u001b[0m\n\u001b[1;32m----> 1\u001b[1;33m \u001b[0ml4\u001b[0m\u001b[1;33m=\u001b[0m\u001b[1;33m[\u001b[0m\u001b[1;36m2\u001b[0m\u001b[1;33m]\u001b[0m\u001b[1;33m[\u001b[0m\u001b[1;36m1\u001b[0m\u001b[1;33m]\u001b[0m\u001b[1;33m\u001b[0m\u001b[1;33m\u001b[0m\u001b[0m\n\u001b[0m",
      "\u001b[1;31mIndexError\u001b[0m: list index out of range"
     ]
    }
   ],
   "source": [
    "l4=[2][1]"
   ]
  },
  {
   "cell_type": "code",
   "execution_count": 56,
   "id": "f6f7a1b2",
   "metadata": {},
   "outputs": [
    {
     "data": {
      "text/plain": [
       "1"
      ]
     },
     "execution_count": 56,
     "metadata": {},
     "output_type": "execute_result"
    }
   ],
   "source": [
    "l5.count(3)"
   ]
  },
  {
   "cell_type": "code",
   "execution_count": 57,
   "id": "4dbf82e9",
   "metadata": {},
   "outputs": [],
   "source": [
    "I.append(\"ineuron\")"
   ]
  },
  {
   "cell_type": "code",
   "execution_count": 58,
   "id": "43a34eef",
   "metadata": {},
   "outputs": [
    {
     "data": {
      "text/plain": [
       "[True, 45.546, 'sudh', 5, 4, 3, 2, 'ineuron']"
      ]
     },
     "execution_count": 58,
     "metadata": {},
     "output_type": "execute_result"
    }
   ],
   "source": [
    "I"
   ]
  },
  {
   "cell_type": "code",
   "execution_count": 59,
   "id": "94bc8862",
   "metadata": {},
   "outputs": [],
   "source": [
    "I.extend(\"sudh\")"
   ]
  },
  {
   "cell_type": "code",
   "execution_count": 60,
   "id": "3d918483",
   "metadata": {},
   "outputs": [
    {
     "data": {
      "text/plain": [
       "[True, 45.546, 'sudh', 5, 4, 3, 2, 'ineuron', 's', 'u', 'd', 'h']"
      ]
     },
     "execution_count": 60,
     "metadata": {},
     "output_type": "execute_result"
    }
   ],
   "source": [
    "I"
   ]
  },
  {
   "cell_type": "code",
   "execution_count": 61,
   "id": "25cf79a0",
   "metadata": {},
   "outputs": [
    {
     "data": {
      "text/plain": [
       "[True, 45.546, 'sudh', 5, 4, 3, 2, 'ineuron', 's', 'u', 'd', 'h']"
      ]
     },
     "execution_count": 61,
     "metadata": {},
     "output_type": "execute_result"
    }
   ],
   "source": [
    "I"
   ]
  },
  {
   "cell_type": "code",
   "execution_count": 62,
   "id": "a6d36d27",
   "metadata": {},
   "outputs": [],
   "source": [
    "l6=[1,2,3]"
   ]
  },
  {
   "cell_type": "code",
   "execution_count": 64,
   "id": "72e96ece",
   "metadata": {},
   "outputs": [],
   "source": [
    "l6.append([4,5,6])"
   ]
  },
  {
   "cell_type": "code",
   "execution_count": 65,
   "id": "572dd1c3",
   "metadata": {},
   "outputs": [
    {
     "data": {
      "text/plain": [
       "[1, 2, 3, [4, 5, 6]]"
      ]
     },
     "execution_count": 65,
     "metadata": {},
     "output_type": "execute_result"
    }
   ],
   "source": [
    "l6"
   ]
  },
  {
   "cell_type": "code",
   "execution_count": 69,
   "id": "01faec67",
   "metadata": {},
   "outputs": [],
   "source": [
    "l6.extend([4,5,6])"
   ]
  },
  {
   "cell_type": "markdown",
   "id": "5293437a",
   "metadata": {},
   "source": [
    "###### "
   ]
  },
  {
   "cell_type": "code",
   "execution_count": 70,
   "id": "34c57bdc",
   "metadata": {},
   "outputs": [
    {
     "data": {
      "text/plain": [
       "[1, 2, 3, [4, 5, 6], 4, 5, 6, 4, 5, 6]"
      ]
     },
     "execution_count": 70,
     "metadata": {},
     "output_type": "execute_result"
    }
   ],
   "source": [
    "l6"
   ]
  },
  {
   "cell_type": "code",
   "execution_count": 71,
   "id": "2e73f888",
   "metadata": {},
   "outputs": [],
   "source": [
    "l6.append(\"pawan\")"
   ]
  },
  {
   "cell_type": "code",
   "execution_count": 72,
   "id": "8ae98b94",
   "metadata": {},
   "outputs": [
    {
     "data": {
      "text/plain": [
       "[1, 2, 3, [4, 5, 6], 4, 5, 6, 4, 5, 6, 'pawan']"
      ]
     },
     "execution_count": 72,
     "metadata": {},
     "output_type": "execute_result"
    }
   ],
   "source": [
    "l6"
   ]
  },
  {
   "cell_type": "code",
   "execution_count": 73,
   "id": "9af1354d",
   "metadata": {},
   "outputs": [],
   "source": [
    "l6.extend([1,2,3])"
   ]
  },
  {
   "cell_type": "code",
   "execution_count": 74,
   "id": "85aa94d7",
   "metadata": {},
   "outputs": [
    {
     "data": {
      "text/plain": [
       "[1, 2, 3, [4, 5, 6], 4, 5, 6, 4, 5, 6, 'pawan', 1, 2, 3]"
      ]
     },
     "execution_count": 74,
     "metadata": {},
     "output_type": "execute_result"
    }
   ],
   "source": [
    "l6"
   ]
  },
  {
   "cell_type": "code",
   "execution_count": 75,
   "id": "48828992",
   "metadata": {},
   "outputs": [
    {
     "data": {
      "text/plain": [
       "0"
      ]
     },
     "execution_count": 75,
     "metadata": {},
     "output_type": "execute_result"
    }
   ],
   "source": [
    "l6.index(1)"
   ]
  },
  {
   "cell_type": "code",
   "execution_count": 76,
   "id": "4f8e5466",
   "metadata": {},
   "outputs": [
    {
     "data": {
      "text/plain": [
       "6"
      ]
     },
     "execution_count": 76,
     "metadata": {},
     "output_type": "execute_result"
    }
   ],
   "source": [
    "l6.index(6)"
   ]
  },
  {
   "cell_type": "code",
   "execution_count": 77,
   "id": "c8d84db4",
   "metadata": {},
   "outputs": [],
   "source": [
    "l6.append(45)"
   ]
  },
  {
   "cell_type": "code",
   "execution_count": 78,
   "id": "1ddf603d",
   "metadata": {},
   "outputs": [
    {
     "data": {
      "text/plain": [
       "[1, 2, 3, [4, 5, 6], 4, 5, 6, 4, 5, 6, 'pawan', 1, 2, 3, 45]"
      ]
     },
     "execution_count": 78,
     "metadata": {},
     "output_type": "execute_result"
    }
   ],
   "source": [
    "l6"
   ]
  },
  {
   "cell_type": "code",
   "execution_count": 79,
   "id": "ba016fe5",
   "metadata": {},
   "outputs": [],
   "source": [
    "l6.insert(1,[1,2,3,4])"
   ]
  },
  {
   "cell_type": "code",
   "execution_count": 80,
   "id": "7da0d5c3",
   "metadata": {},
   "outputs": [
    {
     "data": {
      "text/plain": [
       "[1, [1, 2, 3, 4], 2, 3, [4, 5, 6], 4, 5, 6, 4, 5, 6, 'pawan', 1, 2, 3, 45]"
      ]
     },
     "execution_count": 80,
     "metadata": {},
     "output_type": "execute_result"
    }
   ],
   "source": [
    "l6"
   ]
  },
  {
   "cell_type": "code",
   "execution_count": 82,
   "id": "10ad5d05",
   "metadata": {},
   "outputs": [
    {
     "data": {
      "text/plain": [
       "45"
      ]
     },
     "execution_count": 82,
     "metadata": {},
     "output_type": "execute_result"
    }
   ],
   "source": [
    "l6.pop()"
   ]
  },
  {
   "cell_type": "markdown",
   "id": "51067f47",
   "metadata": {},
   "source": [
    "l6 "
   ]
  },
  {
   "cell_type": "code",
   "execution_count": 83,
   "id": "36f13e89",
   "metadata": {},
   "outputs": [
    {
     "data": {
      "text/plain": [
       "[1, [1, 2, 3, 4], 2, 3, [4, 5, 6], 4, 5, 6, 4, 5, 6, 'pawan', 1, 2, 3]"
      ]
     },
     "execution_count": 83,
     "metadata": {},
     "output_type": "execute_result"
    }
   ],
   "source": [
    "l6"
   ]
  },
  {
   "cell_type": "code",
   "execution_count": 84,
   "id": "f604f91e",
   "metadata": {},
   "outputs": [],
   "source": [
    "l6.remove(4)"
   ]
  },
  {
   "cell_type": "code",
   "execution_count": 85,
   "id": "775e841c",
   "metadata": {},
   "outputs": [
    {
     "data": {
      "text/plain": [
       "[1, [1, 2, 3, 4], 2, 3, [4, 5, 6], 5, 6, 4, 5, 6, 'pawan', 1, 2, 3]"
      ]
     },
     "execution_count": 85,
     "metadata": {},
     "output_type": "execute_result"
    }
   ],
   "source": [
    "l6"
   ]
  },
  {
   "cell_type": "code",
   "execution_count": 86,
   "id": "29480df2",
   "metadata": {},
   "outputs": [],
   "source": [
    "l=[1,2,3,4]"
   ]
  },
  {
   "cell_type": "code",
   "execution_count": 87,
   "id": "d49671b1",
   "metadata": {},
   "outputs": [
    {
     "data": {
      "text/plain": [
       "3"
      ]
     },
     "execution_count": 87,
     "metadata": {},
     "output_type": "execute_result"
    }
   ],
   "source": [
    "l[2]"
   ]
  },
  {
   "cell_type": "code",
   "execution_count": 88,
   "id": "cc808e90",
   "metadata": {},
   "outputs": [],
   "source": [
    "l[2]=\"sudh\""
   ]
  },
  {
   "cell_type": "code",
   "execution_count": 89,
   "id": "b4053172",
   "metadata": {},
   "outputs": [
    {
     "data": {
      "text/plain": [
       "[1, 2, 'sudh', 4]"
      ]
     },
     "execution_count": 89,
     "metadata": {},
     "output_type": "execute_result"
    }
   ],
   "source": [
    "l"
   ]
  },
  {
   "cell_type": "code",
   "execution_count": 90,
   "id": "bfc77069",
   "metadata": {},
   "outputs": [],
   "source": [
    "s=\"ineuron\""
   ]
  },
  {
   "cell_type": "code",
   "execution_count": 91,
   "id": "472ad4ee",
   "metadata": {},
   "outputs": [
    {
     "data": {
      "text/plain": [
       "'i'"
      ]
     },
     "execution_count": 91,
     "metadata": {},
     "output_type": "execute_result"
    }
   ],
   "source": [
    "s[0]"
   ]
  },
  {
   "cell_type": "code",
   "execution_count": 92,
   "id": "f44f597c",
   "metadata": {},
   "outputs": [
    {
     "data": {
      "text/plain": [
       "'e'"
      ]
     },
     "execution_count": 92,
     "metadata": {},
     "output_type": "execute_result"
    }
   ],
   "source": [
    "s[2]"
   ]
  },
  {
   "cell_type": "code",
   "execution_count": 94,
   "id": "3d901650",
   "metadata": {},
   "outputs": [
    {
     "ename": "TypeError",
     "evalue": "'str' object does not support item assignment",
     "output_type": "error",
     "traceback": [
      "\u001b[1;31m---------------------------------------------------------------------------\u001b[0m",
      "\u001b[1;31mTypeError\u001b[0m                                 Traceback (most recent call last)",
      "\u001b[1;32m~\\AppData\\Local\\Temp/ipykernel_11980/1993983954.py\u001b[0m in \u001b[0;36m<module>\u001b[1;34m\u001b[0m\n\u001b[1;32m----> 1\u001b[1;33m \u001b[0ms\u001b[0m\u001b[1;33m[\u001b[0m\u001b[1;36m2\u001b[0m\u001b[1;33m]\u001b[0m\u001b[1;33m=\u001b[0m\u001b[1;34m'z'\u001b[0m\u001b[1;33m\u001b[0m\u001b[1;33m\u001b[0m\u001b[0m\n\u001b[0m",
      "\u001b[1;31mTypeError\u001b[0m: 'str' object does not support item assignment"
     ]
    }
   ],
   "source": [
    "s[2]='z'"
   ]
  },
  {
   "cell_type": "code",
   "execution_count": 95,
   "id": "92e83b62",
   "metadata": {},
   "outputs": [],
   "source": [
    "t=(4,5,6,\"sudh\",45.66,True)"
   ]
  },
  {
   "cell_type": "code",
   "execution_count": 96,
   "id": "69c4f60f",
   "metadata": {},
   "outputs": [
    {
     "data": {
      "text/plain": [
       "(4, 5, 6, 'sudh', 45.66, True)"
      ]
     },
     "execution_count": 96,
     "metadata": {},
     "output_type": "execute_result"
    }
   ],
   "source": [
    "t"
   ]
  },
  {
   "cell_type": "code",
   "execution_count": 97,
   "id": "8a4b0f64",
   "metadata": {},
   "outputs": [
    {
     "data": {
      "text/plain": [
       "tuple"
      ]
     },
     "execution_count": 97,
     "metadata": {},
     "output_type": "execute_result"
    }
   ],
   "source": [
    "type(t)"
   ]
  },
  {
   "cell_type": "code",
   "execution_count": 98,
   "id": "7b4d2ee3",
   "metadata": {},
   "outputs": [
    {
     "data": {
      "text/plain": [
       "4"
      ]
     },
     "execution_count": 98,
     "metadata": {},
     "output_type": "execute_result"
    }
   ],
   "source": [
    "t[0]"
   ]
  },
  {
   "cell_type": "code",
   "execution_count": 99,
   "id": "8c56e4ce",
   "metadata": {},
   "outputs": [
    {
     "data": {
      "text/plain": [
       "True"
      ]
     },
     "execution_count": 99,
     "metadata": {},
     "output_type": "execute_result"
    }
   ],
   "source": [
    "t[-1]"
   ]
  },
  {
   "cell_type": "code",
   "execution_count": 101,
   "id": "1c529a45",
   "metadata": {},
   "outputs": [
    {
     "data": {
      "text/plain": [
       "(4, 5, 6, 'sudh')"
      ]
     },
     "execution_count": 101,
     "metadata": {},
     "output_type": "execute_result"
    }
   ],
   "source": [
    "t[0:4]"
   ]
  },
  {
   "cell_type": "code",
   "execution_count": 102,
   "id": "7ce738b0",
   "metadata": {},
   "outputs": [
    {
     "data": {
      "text/plain": [
       "(4, 5, 6, 'sudh', 45.66, True)"
      ]
     },
     "execution_count": 102,
     "metadata": {},
     "output_type": "execute_result"
    }
   ],
   "source": [
    "t"
   ]
  },
  {
   "cell_type": "code",
   "execution_count": 103,
   "id": "f5343c19",
   "metadata": {},
   "outputs": [
    {
     "data": {
      "text/plain": [
       "(4, 6, 45.66)"
      ]
     },
     "execution_count": 103,
     "metadata": {},
     "output_type": "execute_result"
    }
   ],
   "source": [
    "t[0:6:2]"
   ]
  },
  {
   "cell_type": "code",
   "execution_count": 104,
   "id": "df4f6ae9",
   "metadata": {},
   "outputs": [
    {
     "data": {
      "text/plain": [
       "()"
      ]
     },
     "execution_count": 104,
     "metadata": {},
     "output_type": "execute_result"
    }
   ],
   "source": [
    "t[0:4:-1]"
   ]
  },
  {
   "cell_type": "code",
   "execution_count": 106,
   "id": "0f819ea7",
   "metadata": {},
   "outputs": [],
   "source": [
    "l=[1,2,3,4,6,7]"
   ]
  },
  {
   "cell_type": "code",
   "execution_count": 107,
   "id": "b4957539",
   "metadata": {},
   "outputs": [],
   "source": [
    "l[2]=\"paw\""
   ]
  },
  {
   "cell_type": "code",
   "execution_count": 108,
   "id": "6b331fa5",
   "metadata": {},
   "outputs": [
    {
     "data": {
      "text/plain": [
       "[1, 2, 'paw', 4, 6, 7]"
      ]
     },
     "execution_count": 108,
     "metadata": {},
     "output_type": "execute_result"
    }
   ],
   "source": [
    "l"
   ]
  },
  {
   "cell_type": "code",
   "execution_count": 109,
   "id": "e7244720",
   "metadata": {},
   "outputs": [],
   "source": [
    "t1=(3,4,5,6)"
   ]
  },
  {
   "cell_type": "code",
   "execution_count": 110,
   "id": "b720c50f",
   "metadata": {},
   "outputs": [
    {
     "data": {
      "text/plain": [
       "(4, 5, 6, 'sudh', 45.66, True, 3, 4, 5, 6)"
      ]
     },
     "execution_count": 110,
     "metadata": {},
     "output_type": "execute_result"
    }
   ],
   "source": [
    "t+t1"
   ]
  },
  {
   "cell_type": "code",
   "execution_count": 111,
   "id": "8d675d52",
   "metadata": {},
   "outputs": [
    {
     "data": {
      "text/plain": [
       "0"
      ]
     },
     "execution_count": 111,
     "metadata": {},
     "output_type": "execute_result"
    }
   ],
   "source": [
    "t.count(3)"
   ]
  },
  {
   "cell_type": "code",
   "execution_count": 112,
   "id": "e16528c4",
   "metadata": {},
   "outputs": [
    {
     "data": {
      "text/plain": [
       "1"
      ]
     },
     "execution_count": 112,
     "metadata": {},
     "output_type": "execute_result"
    }
   ],
   "source": [
    "t.count(4)"
   ]
  },
  {
   "cell_type": "code",
   "execution_count": 119,
   "id": "2b51e1f0",
   "metadata": {},
   "outputs": [
    {
     "data": {
      "text/plain": [
       "4"
      ]
     },
     "execution_count": 119,
     "metadata": {},
     "output_type": "execute_result"
    }
   ],
   "source": [
    "t.index(45.66)"
   ]
  },
  {
   "cell_type": "markdown",
   "id": "0626e697",
   "metadata": {},
   "source": [
    "t=(3,4,56,7,\"sudh\")"
   ]
  },
  {
   "cell_type": "code",
   "execution_count": 120,
   "id": "c7defcf9",
   "metadata": {},
   "outputs": [],
   "source": [
    "t2=list(t)"
   ]
  },
  {
   "cell_type": "code",
   "execution_count": 121,
   "id": "feb1b6ab",
   "metadata": {},
   "outputs": [
    {
     "data": {
      "text/plain": [
       "[4, 5, 6, 'sudh', 45.66, True]"
      ]
     },
     "execution_count": 121,
     "metadata": {},
     "output_type": "execute_result"
    }
   ],
   "source": [
    "t2"
   ]
  },
  {
   "cell_type": "code",
   "execution_count": 122,
   "id": "e6b84443",
   "metadata": {},
   "outputs": [],
   "source": [
    "d={}"
   ]
  },
  {
   "cell_type": "code",
   "execution_count": 123,
   "id": "618ea6f0",
   "metadata": {},
   "outputs": [
    {
     "data": {
      "text/plain": [
       "dict"
      ]
     },
     "execution_count": 123,
     "metadata": {},
     "output_type": "execute_result"
    }
   ],
   "source": [
    "type(d)"
   ]
  },
  {
   "cell_type": "code",
   "execution_count": 124,
   "id": "ceadcab4",
   "metadata": {},
   "outputs": [],
   "source": [
    "d1={1}"
   ]
  },
  {
   "cell_type": "code",
   "execution_count": 125,
   "id": "cfe06d38",
   "metadata": {},
   "outputs": [
    {
     "data": {
      "text/plain": [
       "set"
      ]
     },
     "execution_count": 125,
     "metadata": {},
     "output_type": "execute_result"
    }
   ],
   "source": [
    "type(d1)"
   ]
  },
  {
   "cell_type": "code",
   "execution_count": 126,
   "id": "e7cd61f0",
   "metadata": {},
   "outputs": [],
   "source": [
    "d2={'key1':\"value\",234:\"xyz\",\"name\":\"sudh\",\"no\":3454455}"
   ]
  },
  {
   "cell_type": "code",
   "execution_count": 127,
   "id": "142f9c1d",
   "metadata": {},
   "outputs": [
    {
     "data": {
      "text/plain": [
       "dict"
      ]
     },
     "execution_count": 127,
     "metadata": {},
     "output_type": "execute_result"
    }
   ],
   "source": [
    "type(d2)"
   ]
  },
  {
   "cell_type": "code",
   "execution_count": 128,
   "id": "cc79a1cc",
   "metadata": {},
   "outputs": [
    {
     "data": {
      "text/plain": [
       "'sudh'"
      ]
     },
     "execution_count": 128,
     "metadata": {},
     "output_type": "execute_result"
    }
   ],
   "source": [
    "d2['name']"
   ]
  },
  {
   "cell_type": "code",
   "execution_count": 130,
   "id": "58a8542f",
   "metadata": {},
   "outputs": [
    {
     "data": {
      "text/plain": [
       "3454455"
      ]
     },
     "execution_count": 130,
     "metadata": {},
     "output_type": "execute_result"
    }
   ],
   "source": [
    "d2['no']"
   ]
  },
  {
   "cell_type": "code",
   "execution_count": 133,
   "id": "56b4f10d",
   "metadata": {},
   "outputs": [],
   "source": [
    "d3={'name':'sudh','tech':[\"pythan\",\"ML\",\"DL\",\"NLP\", \"Big data\", \"Data analytics\"]}"
   ]
  },
  {
   "cell_type": "code",
   "execution_count": 134,
   "id": "e831a0e9",
   "metadata": {},
   "outputs": [
    {
     "data": {
      "text/plain": [
       "{'name': 'sudh',\n",
       " 'tech': ['pythan', 'ML', 'DL', 'NLP', 'Big data', 'Data analytics']}"
      ]
     },
     "execution_count": 134,
     "metadata": {},
     "output_type": "execute_result"
    }
   ],
   "source": [
    "d3"
   ]
  },
  {
   "cell_type": "code",
   "execution_count": 135,
   "id": "a0095c0b",
   "metadata": {},
   "outputs": [],
   "source": [
    "d4={\"name\":\"ineuron\", \"contact_info\":345466,\"name\":\"pawan\"}"
   ]
  },
  {
   "cell_type": "code",
   "execution_count": 137,
   "id": "41eeae55",
   "metadata": {},
   "outputs": [],
   "source": [
    "d4[\"name\"]=\"pawansoni\""
   ]
  },
  {
   "cell_type": "code",
   "execution_count": 138,
   "id": "e014ed5e",
   "metadata": {},
   "outputs": [
    {
     "data": {
      "text/plain": [
       "{'name': 'pawansoni', 'contact_info': 345466}"
      ]
     },
     "execution_count": 138,
     "metadata": {},
     "output_type": "execute_result"
    }
   ],
   "source": [
    "d4"
   ]
  },
  {
   "cell_type": "code",
   "execution_count": 139,
   "id": "20d652c5",
   "metadata": {},
   "outputs": [
    {
     "ename": "KeyError",
     "evalue": "'no'",
     "output_type": "error",
     "traceback": [
      "\u001b[1;31m---------------------------------------------------------------------------\u001b[0m",
      "\u001b[1;31mKeyError\u001b[0m                                  Traceback (most recent call last)",
      "\u001b[1;32m~\\AppData\\Local\\Temp/ipykernel_11980/1425805177.py\u001b[0m in \u001b[0;36m<module>\u001b[1;34m\u001b[0m\n\u001b[1;32m----> 1\u001b[1;33m \u001b[0md4\u001b[0m\u001b[1;33m[\u001b[0m\u001b[1;34m\"no\"\u001b[0m\u001b[1;33m]\u001b[0m\u001b[1;33m\u001b[0m\u001b[1;33m\u001b[0m\u001b[0m\n\u001b[0m",
      "\u001b[1;31mKeyError\u001b[0m: 'no'"
     ]
    }
   ],
   "source": [
    "d6"
   ]
  },
  {
   "cell_type": "code",
   "execution_count": 140,
   "id": "a1afe6ac",
   "metadata": {},
   "outputs": [
    {
     "ename": "NameError",
     "evalue": "name 'd6' is not defined",
     "output_type": "error",
     "traceback": [
      "\u001b[1;31m---------------------------------------------------------------------------\u001b[0m",
      "\u001b[1;31mNameError\u001b[0m                                 Traceback (most recent call last)",
      "\u001b[1;32m~\\AppData\\Local\\Temp/ipykernel_11980/1041773057.py\u001b[0m in \u001b[0;36m<module>\u001b[1;34m\u001b[0m\n\u001b[1;32m----> 1\u001b[1;33m \u001b[0md6\u001b[0m\u001b[1;33m[\u001b[0m\u001b[1;33m(\u001b[0m\u001b[1;36m1\u001b[0m\u001b[1;33m,\u001b[0m\u001b[1;36m2\u001b[0m\u001b[1;33m,\u001b[0m\u001b[1;36m3\u001b[0m\u001b[1;33m,\u001b[0m\u001b[1;36m4\u001b[0m\u001b[1;33m)\u001b[0m\u001b[1;33m]\u001b[0m\u001b[1;33m\u001b[0m\u001b[1;33m\u001b[0m\u001b[0m\n\u001b[0m",
      "\u001b[1;31mNameError\u001b[0m: name 'd6' is not defined"
     ]
    }
   ],
   "source": [
    "d6[(1,2,3,4)]"
   ]
  },
  {
   "cell_type": "code",
   "execution_count": 141,
   "id": "825be1b6",
   "metadata": {},
   "outputs": [
    {
     "data": {
      "text/plain": [
       "{'key1': 'value', 234: 'xyz', 'name': 'sudh', 'no': 3454455}"
      ]
     },
     "execution_count": 141,
     "metadata": {},
     "output_type": "execute_result"
    }
   ],
   "source": [
    "d2"
   ]
  },
  {
   "cell_type": "code",
   "execution_count": 142,
   "id": "4d60fd56",
   "metadata": {},
   "outputs": [
    {
     "data": {
      "text/plain": [
       "{'name': 'sudh',\n",
       " 'tech': ['pythan', 'ML', 'DL', 'NLP', 'Big data', 'Data analytics']}"
      ]
     },
     "execution_count": 142,
     "metadata": {},
     "output_type": "execute_result"
    }
   ],
   "source": [
    "d3"
   ]
  },
  {
   "cell_type": "code",
   "execution_count": 143,
   "id": "d0323f72",
   "metadata": {},
   "outputs": [
    {
     "ename": "TypeError",
     "evalue": "unsupported operand type(s) for +: 'dict' and 'dict'",
     "output_type": "error",
     "traceback": [
      "\u001b[1;31m---------------------------------------------------------------------------\u001b[0m",
      "\u001b[1;31mTypeError\u001b[0m                                 Traceback (most recent call last)",
      "\u001b[1;32m~\\AppData\\Local\\Temp/ipykernel_11980/2884743602.py\u001b[0m in \u001b[0;36m<module>\u001b[1;34m\u001b[0m\n\u001b[1;32m----> 1\u001b[1;33m \u001b[0md2\u001b[0m\u001b[1;33m+\u001b[0m\u001b[0md3\u001b[0m\u001b[1;33m\u001b[0m\u001b[1;33m\u001b[0m\u001b[0m\n\u001b[0m",
      "\u001b[1;31mTypeError\u001b[0m: unsupported operand type(s) for +: 'dict' and 'dict'"
     ]
    }
   ],
   "source": [
    "d2+d3"
   ]
  },
  {
   "cell_type": "code",
   "execution_count": 144,
   "id": "4b0416c7",
   "metadata": {},
   "outputs": [
    {
     "data": {
      "text/plain": [
       "{'key1': 'value', 234: 'xyz', 'name': 'sudh', 'no': 3454455}"
      ]
     },
     "execution_count": 144,
     "metadata": {},
     "output_type": "execute_result"
    }
   ],
   "source": [
    "d2"
   ]
  },
  {
   "cell_type": "code",
   "execution_count": 145,
   "id": "a5aa5b0b",
   "metadata": {},
   "outputs": [
    {
     "data": {
      "text/plain": [
       "dict_keys(['key1', 234, 'name', 'no'])"
      ]
     },
     "execution_count": 145,
     "metadata": {},
     "output_type": "execute_result"
    }
   ],
   "source": [
    "d2.keys()"
   ]
  },
  {
   "cell_type": "code",
   "execution_count": 148,
   "id": "34ea1f30",
   "metadata": {},
   "outputs": [
    {
     "data": {
      "text/plain": [
       "dict_values(['value', 'xyz', 'sudh', 3454455])"
      ]
     },
     "execution_count": 148,
     "metadata": {},
     "output_type": "execute_result"
    }
   ],
   "source": [
    "d2.values()"
   ]
  },
  {
   "cell_type": "code",
   "execution_count": 149,
   "id": "43753ecc",
   "metadata": {},
   "outputs": [
    {
     "data": {
      "text/plain": [
       "dict_items([('key1', 'value'), (234, 'xyz'), ('name', 'sudh'), ('no', 3454455)])"
      ]
     },
     "execution_count": 149,
     "metadata": {},
     "output_type": "execute_result"
    }
   ],
   "source": [
    "d2.items()"
   ]
  },
  {
   "cell_type": "code",
   "execution_count": 150,
   "id": "347ecb4a",
   "metadata": {},
   "outputs": [],
   "source": [
    "s={3,4,5,6,7}"
   ]
  },
  {
   "cell_type": "code",
   "execution_count": 151,
   "id": "d3c14b6a",
   "metadata": {},
   "outputs": [
    {
     "data": {
      "text/plain": [
       "set"
      ]
     },
     "execution_count": 151,
     "metadata": {},
     "output_type": "execute_result"
    }
   ],
   "source": [
    "type(s)"
   ]
  },
  {
   "cell_type": "code",
   "execution_count": 153,
   "id": "eb37b1ad",
   "metadata": {},
   "outputs": [],
   "source": [
    "s1={1,2,3,5,6,7,8,9,0,0,0}"
   ]
  },
  {
   "cell_type": "code",
   "execution_count": 154,
   "id": "c098cac5",
   "metadata": {},
   "outputs": [
    {
     "data": {
      "text/plain": [
       "{0, 1, 2, 3, 5, 6, 7, 8, 9}"
      ]
     },
     "execution_count": 154,
     "metadata": {},
     "output_type": "execute_result"
    }
   ],
   "source": [
    "s1"
   ]
  },
  {
   "cell_type": "code",
   "execution_count": 155,
   "id": "1a6b0fb5",
   "metadata": {},
   "outputs": [],
   "source": [
    "s2={111,222,45456,11,1221,0,2,3}"
   ]
  },
  {
   "cell_type": "code",
   "execution_count": 156,
   "id": "22846798",
   "metadata": {},
   "outputs": [
    {
     "data": {
      "text/plain": [
       "{0, 2, 3, 11, 111, 222, 1221, 45456}"
      ]
     },
     "execution_count": 156,
     "metadata": {},
     "output_type": "execute_result"
    }
   ],
   "source": [
    "s2"
   ]
  },
  {
   "cell_type": "code",
   "execution_count": 158,
   "id": "a335fab2",
   "metadata": {},
   "outputs": [],
   "source": [
    "s3={111,222,45456,11,1221,0,2,3,\"sudh\",\"b\",\"f\",\"g\"}"
   ]
  },
  {
   "cell_type": "code",
   "execution_count": 159,
   "id": "3a1fed10",
   "metadata": {},
   "outputs": [
    {
     "data": {
      "text/plain": [
       "{0, 11, 111, 1221, 2, 222, 3, 45456, 'b', 'f', 'g', 'sudh'}"
      ]
     },
     "execution_count": 159,
     "metadata": {},
     "output_type": "execute_result"
    }
   ],
   "source": [
    "s3"
   ]
  },
  {
   "cell_type": "code",
   "execution_count": 160,
   "id": "e9d5e6e2",
   "metadata": {},
   "outputs": [
    {
     "ename": "TypeError",
     "evalue": "'set' object is not subscriptable",
     "output_type": "error",
     "traceback": [
      "\u001b[1;31m---------------------------------------------------------------------------\u001b[0m",
      "\u001b[1;31mTypeError\u001b[0m                                 Traceback (most recent call last)",
      "\u001b[1;32m~\\AppData\\Local\\Temp/ipykernel_11980/397937684.py\u001b[0m in \u001b[0;36m<module>\u001b[1;34m\u001b[0m\n\u001b[1;32m----> 1\u001b[1;33m \u001b[0ms3\u001b[0m\u001b[1;33m[\u001b[0m\u001b[1;36m0\u001b[0m\u001b[1;33m]\u001b[0m\u001b[1;33m\u001b[0m\u001b[1;33m\u001b[0m\u001b[0m\n\u001b[0m",
      "\u001b[1;31mTypeError\u001b[0m: 'set' object is not subscriptable"
     ]
    }
   ],
   "source": [
    "s3[0]"
   ]
  },
  {
   "cell_type": "code",
   "execution_count": 161,
   "id": "8750aea4",
   "metadata": {},
   "outputs": [],
   "source": [
    "l=list(s3)"
   ]
  },
  {
   "cell_type": "code",
   "execution_count": 162,
   "id": "3b3c2e76",
   "metadata": {},
   "outputs": [
    {
     "data": {
      "text/plain": [
       "[0, 'g', 2, 3, 1221, 11, 'f', 'sudh', 111, 45456, 'b', 222]"
      ]
     },
     "execution_count": 162,
     "metadata": {},
     "output_type": "execute_result"
    }
   ],
   "source": [
    "l"
   ]
  },
  {
   "cell_type": "code",
   "execution_count": 163,
   "id": "e87b1a17",
   "metadata": {},
   "outputs": [
    {
     "data": {
      "text/plain": [
       "'g'"
      ]
     },
     "execution_count": 163,
     "metadata": {},
     "output_type": "execute_result"
    }
   ],
   "source": [
    "l[1]"
   ]
  },
  {
   "cell_type": "code",
   "execution_count": 164,
   "id": "bc990a6a",
   "metadata": {},
   "outputs": [
    {
     "data": {
      "text/plain": [
       "(0, 'g', 2, 3, 1221, 11, 'f', 'sudh', 111, 45456, 'b', 222)"
      ]
     },
     "execution_count": 164,
     "metadata": {},
     "output_type": "execute_result"
    }
   ],
   "source": [
    "tuple(s3)"
   ]
  },
  {
   "cell_type": "code",
   "execution_count": 165,
   "id": "7556dda0",
   "metadata": {},
   "outputs": [],
   "source": [
    "l=[1,2,3,4,7,7,7,7,7,7,7,]"
   ]
  },
  {
   "cell_type": "code",
   "execution_count": 166,
   "id": "da222d03",
   "metadata": {},
   "outputs": [],
   "source": [
    "s3=set(l)"
   ]
  },
  {
   "cell_type": "code",
   "execution_count": 167,
   "id": "be2abeb3",
   "metadata": {},
   "outputs": [
    {
     "data": {
      "text/plain": [
       "[1, 2, 3, 4, 7, 7, 7, 7, 7, 7, 7]"
      ]
     },
     "execution_count": 167,
     "metadata": {},
     "output_type": "execute_result"
    }
   ],
   "source": [
    "l"
   ]
  },
  {
   "cell_type": "code",
   "execution_count": 168,
   "id": "a79e19fa",
   "metadata": {},
   "outputs": [],
   "source": [
    "s={(1,2,3,4),3,4,5,65,7}"
   ]
  },
  {
   "cell_type": "code",
   "execution_count": 169,
   "id": "d778eb9c",
   "metadata": {},
   "outputs": [
    {
     "data": {
      "text/plain": [
       "{(1, 2, 3, 4), 3, 4, 5, 65, 7}"
      ]
     },
     "execution_count": 169,
     "metadata": {},
     "output_type": "execute_result"
    }
   ],
   "source": [
    "s"
   ]
  },
  {
   "cell_type": "code",
   "execution_count": null,
   "id": "4ce05c9d",
   "metadata": {},
   "outputs": [],
   "source": []
  }
 ],
 "metadata": {
  "kernelspec": {
   "display_name": "Python 3 (ipykernel)",
   "language": "python",
   "name": "python3"
  },
  "language_info": {
   "codemirror_mode": {
    "name": "ipython",
    "version": 3
   },
   "file_extension": ".py",
   "mimetype": "text/x-python",
   "name": "python",
   "nbconvert_exporter": "python",
   "pygments_lexer": "ipython3",
   "version": "3.9.7"
  }
 },
 "nbformat": 4,
 "nbformat_minor": 5
}
