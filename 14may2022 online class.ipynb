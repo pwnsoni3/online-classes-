{
 "cells": [
  {
   "cell_type": "code",
   "execution_count": 1,
   "id": "b48df7b4",
   "metadata": {},
   "outputs": [
    {
     "data": {
      "text/plain": [
       "9"
      ]
     },
     "execution_count": 1,
     "metadata": {},
     "output_type": "execute_result"
    }
   ],
   "source": [
    "4+5"
   ]
  },
  {
   "cell_type": "code",
   "execution_count": 2,
   "id": "bf13130c",
   "metadata": {},
   "outputs": [
    {
     "data": {
      "text/plain": [
       "15565"
      ]
     },
     "execution_count": 2,
     "metadata": {},
     "output_type": "execute_result"
    }
   ],
   "source": [
    "6788+8777"
   ]
  },
  {
   "cell_type": "code",
   "execution_count": 3,
   "id": "4f039fcb",
   "metadata": {},
   "outputs": [
    {
     "data": {
      "text/plain": [
       "18496"
      ]
     },
     "execution_count": 3,
     "metadata": {},
     "output_type": "execute_result"
    }
   ],
   "source": [
    "34*544"
   ]
  },
  {
   "cell_type": "code",
   "execution_count": 4,
   "id": "362fcb91",
   "metadata": {},
   "outputs": [
    {
     "data": {
      "text/plain": [
       "-232"
      ]
     },
     "execution_count": 4,
     "metadata": {},
     "output_type": "execute_result"
    }
   ],
   "source": [
    "434-666"
   ]
  },
  {
   "cell_type": "raw",
   "id": "a81c239c",
   "metadata": {},
   "source": [
    "use jupyter notebook online if u are not able to downlaod anaconda comunity. "
   ]
  },
  {
   "cell_type": "raw",
   "id": "e3422162",
   "metadata": {},
   "source": [
    "use jupyter notebook online if u are not able to downlaod anaconda comunity."
   ]
  },
  {
   "cell_type": "raw",
   "id": "0c37ecfc",
   "metadata": {},
   "source": [
    "use jupyter notebook online if u are not able to downlaod anaconda comunity."
   ]
  },
  {
   "cell_type": "raw",
   "id": "c23d439b",
   "metadata": {},
   "source": [
    "google colab can be use for execution of code but problem is for heavy code, it will not excecute heavy code we have to buy in 10 doller. so for little work like small coding it good."
   ]
  },
  {
   "cell_type": "code",
   "execution_count": null,
   "id": "8afe7a21",
   "metadata": {},
   "outputs": [],
   "source": []
  }
 ],
 "metadata": {
  "kernelspec": {
   "display_name": "Python 3 (ipykernel)",
   "language": "python",
   "name": "python3"
  },
  "language_info": {
   "codemirror_mode": {
    "name": "ipython",
    "version": 3
   },
   "file_extension": ".py",
   "mimetype": "text/x-python",
   "name": "python",
   "nbconvert_exporter": "python",
   "pygments_lexer": "ipython3",
   "version": "3.9.7"
  }
 },
 "nbformat": 4,
 "nbformat_minor": 5
}
